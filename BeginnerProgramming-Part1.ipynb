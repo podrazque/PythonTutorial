{
 "cells": [
  {
   "cell_type": "markdown",
   "metadata": {},
   "source": [
    "# Variables & Style"
   ]
  },
  {
   "cell_type": "markdown",
   "metadata": {},
   "source": [
    "Variables allow you to store data in them anything from words, numbers, vectors even images.\n",
    "\n",
    "They are the basic building block of programming and within no time you will not even think about what they are, instead you will be using them to help you build awesome things!\n",
    "\n",
    "Let's look at a few simple examples:\n",
    "\n"
   ]
  },
  {
   "cell_type": "code",
   "execution_count": 4,
   "metadata": {},
   "outputs": [
    {
     "name": "stdout",
     "output_type": "stream",
     "text": [
      "1\n"
     ]
    }
   ],
   "source": [
    "x = 1\n",
    "print(x)"
   ]
  },
  {
   "cell_type": "markdown",
   "metadata": {},
   "source": [
    "As you can see here we are assigning the number 1 to that variable 'x'.\n",
    "\n",
    "And we can also change what is in the variable 'x' by assigning the value 2 to it."
   ]
  },
  {
   "cell_type": "code",
   "execution_count": 6,
   "metadata": {},
   "outputs": [
    {
     "name": "stdout",
     "output_type": "stream",
     "text": [
      "2\n"
     ]
    }
   ],
   "source": [
    "x = 2 \n",
    "print(x)"
   ]
  },
  {
   "cell_type": "markdown",
   "metadata": {},
   "source": [
    "Now let's try some math!"
   ]
  },
  {
   "cell_type": "code",
   "execution_count": 9,
   "metadata": {},
   "outputs": [
    {
     "name": "stdout",
     "output_type": "stream",
     "text": [
      "6\n"
     ]
    }
   ],
   "source": [
    "x = 3\n",
    "y = 3\n",
    "z = x + y\n",
    "\n",
    "print(z)"
   ]
  },
  {
   "cell_type": "markdown",
   "metadata": {},
   "source": [
    "As you can see it's not hard to understand what is happening in the cell above, but one thing that is confusing\n",
    "is the naming scheme of our variables. When you are working on a team naming your variables in a descriptive and \n",
    "clear way is very important so that others can understand your code.\n",
    "\n",
    "There are a few naming philosophies people have and if you want you should definitely explore some style guides\n",
    "here is one that I have stumbled upon and for the most part I like most of what is said in it:\n",
    "https://github.com/google/styleguide/blob/gh-pages/pyguide.md\n",
    "    \n",
    "But for the most part style is something that you will define for yourself. Try to stick to the norms to allow your\n",
    "code to be easily read by other developers.\n",
    "\n",
    "Below I will give you a few examples of how I write my code so that you can make your own decisions."
   ]
  },
  {
   "cell_type": "markdown",
   "metadata": {},
   "source": [
    "I like to keep variables descriptive here is an example of a short math problem:"
   ]
  },
  {
   "cell_type": "code",
   "execution_count": 16,
   "metadata": {},
   "outputs": [
    {
     "name": "stdout",
     "output_type": "stream",
     "text": [
      "120\n"
     ]
    }
   ],
   "source": [
    "rectangleHeight = 5\n",
    "rectangleWidth = 4\n",
    "rectangleLength = 6\n",
    "\n",
    "rectangleArea = rectangleWidth * rectangleLength\n",
    "rectangleVolume = rectangleArea * rectangleHeight\n",
    "\n",
    "print(rectangleVolume)"
   ]
  },
  {
   "cell_type": "markdown",
   "metadata": {},
   "source": [
    "Although this naming is very descriptive the names are quite long which means that reading and typing them takes\n",
    "longer than we would like.\n",
    "\n",
    "Here is how _*I*_ would do the same problem:"
   ]
  },
  {
   "cell_type": "code",
   "execution_count": 17,
   "metadata": {},
   "outputs": [
    {
     "name": "stdout",
     "output_type": "stream",
     "text": [
      "120\n"
     ]
    }
   ],
   "source": [
    "rectH = 5\n",
    "rectW = 4\n",
    "rectL = 6\n",
    "\n",
    "rectA = rectW * rectL\n",
    "rectV = rectA * rectH\n",
    "\n",
    "print(rectV)"
   ]
  },
  {
   "cell_type": "markdown",
   "metadata": {},
   "source": [
    "Not only is this code less characters thus less cluttered, but the last letters H, W, L, A & V describe the attribute\n",
    "of the rectangle that I am refering to and are capitalized allowing for quick identification.\n",
    "\n",
    "I like to use camelCase whichLooksLikeThisIfIWriteASentence.\n",
    "\n",
    "Others like snake_case which_looks_like_this_if_I_write_a_sentence.\n",
    "\n",
    "There is also UpperCamelCase WhichLooksLikeThisIfIWriteASentence.\n",
    "\n",
    "A lot of developers prefer camelCase because it is clean and simple and my personal opinion is that you should use it too, but I'm biased. So just pick one and stick with it!"
   ]
  },
  {
   "cell_type": "markdown",
   "metadata": {},
   "source": [
    "# Conditional Statements "
   ]
  },
  {
   "cell_type": "markdown",
   "metadata": {},
   "source": [
    "Conditional statements are a very simple yet powerful tool. It tells your code what to do if certain conditions are met.\n",
    "\n",
    "In real life you would say: \n",
    "\n",
    "*IF* it rains bring an umbrella\n",
    "\n",
    "You can do the same with you code.\n",
    "\n",
    "Below I am using a boolean datatype.\n",
    "Boolean datatypes are simply either True or False, no inbetween.\n",
    "You cannot assign anything else to them.\n",
    "\n",
    "I set the variable 'rain' to False and use it in my conditional statement.\n",
    "\n",
    "Try setting rain to True and see what happens!"
   ]
  },
  {
   "cell_type": "code",
   "execution_count": 33,
   "metadata": {},
   "outputs": [
    {
     "name": "stdout",
     "output_type": "stream",
     "text": [
      "It's not raining\n"
     ]
    }
   ],
   "source": [
    "rain = False\n",
    "\n",
    "if(rain == True):\n",
    "    print(\"Bring your coat\")\n",
    "else:\n",
    "    print(\"It's not raining\")"
   ]
  },
  {
   "cell_type": "markdown",
   "metadata": {},
   "source": [
    "Now I will break down this code to show you what is happening.\n",
    "\n",
    "\n",
    "'rain = False'  -  this is the essential part of the code, this tells us whether it's raining or not\n",
    "\n",
    "\n",
    "'if(rain == True):'  -  'if' signals that a condition will be checked, here our condition is 'rain == True', notice\n",
    "that we are using '==' not '='. '==' checks if two things are equal to eachother and returns either True or False\n",
    "ex. '0.5 == 1/2' would return True, while '0.5 == 1' returns False.\n",
    "\n",
    "Another cool thing we can do with condition checks is checking for inequality '!='\n",
    "ex. '1 != 2' would return True, while '1/2 != 0.5' would return False.\n",
    "\n",
    "'print(\"Bring your coat\")'  -  allows us to print whatever we want\n",
    "\n",
    "\n",
    "'else:'  -  tells the code what to do if the condition in the 'if' statement isn't fullfilled \n",
    "\n",
    "Since 'if' checks if something is True or False we can simply do this:"
   ]
  },
  {
   "cell_type": "code",
   "execution_count": 34,
   "metadata": {},
   "outputs": [
    {
     "name": "stdout",
     "output_type": "stream",
     "text": [
      "It's not raining\n"
     ]
    }
   ],
   "source": [
    "if(rain):\n",
    "    print(\"Bring your coat\")\n",
    "else:\n",
    "    print(\"It's not raining\")"
   ]
  },
  {
   "cell_type": "markdown",
   "metadata": {},
   "source": [
    "We can also check for conditions like greater than or less than in conditional statements, as well as doing multiple conditions by using 'elif', 'and' & 'or'."
   ]
  },
  {
   "cell_type": "code",
   "execution_count": 37,
   "metadata": {},
   "outputs": [
    {
     "name": "stdout",
     "output_type": "stream",
     "text": [
      "That can't be true.\n",
      "Both have to be true - 1\n",
      "Only one of those has to be true\n"
     ]
    }
   ],
   "source": [
    "if(1 > 2):\n",
    "    print(\"That can't be true.\")\n",
    "elif(2 > 1):\n",
    "    print(\"That's always true\")\n",
    "    \n",
    "if(2 > 1 and 3 < 4):\n",
    "    print(\"Both have to be true - 1\")\n",
    "    \n",
    "if(2 > 1 and 3 < 2):\n",
    "    print(\"Both have to be true - 2\")\n",
    "    \n",
    "if(2 < 3 or 10 < 1):\n",
    "    print(\"Only one of those has to be true\")\n"
   ]
  },
  {
   "cell_type": "markdown",
   "metadata": {},
   "source": [
    "# Loops"
   ]
  },
  {
   "cell_type": "markdown",
   "metadata": {},
   "source": [
    "Loops are another basic yet powerful tool in programming, they repeat the code under them until they are told to stop. \n",
    "\n",
    "In Python there are two styles of loops a 'for' loop and a 'while' loop."
   ]
  },
  {
   "cell_type": "code",
   "execution_count": 1,
   "metadata": {},
   "outputs": [
    {
     "name": "stdout",
     "output_type": "stream",
     "text": [
      "0\n",
      "1\n",
      "2\n",
      "3\n",
      "4\n"
     ]
    }
   ],
   "source": [
    "for i in range(5):\n",
    "    print(i)"
   ]
  },
  {
   "cell_type": "code",
   "execution_count": 6,
   "metadata": {},
   "outputs": [
    {
     "name": "stdout",
     "output_type": "stream",
     "text": [
      "0\n",
      "1\n",
      "2\n",
      "3\n",
      "4\n"
     ]
    }
   ],
   "source": [
    "i = 0\n",
    "while(i < 5):\n",
    "    print(i)\n",
    "    i = i + 1"
   ]
  },
  {
   "cell_type": "markdown",
   "metadata": {},
   "source": [
    "The for loop creates a variable 'i' or whatever you want to call it, the name is up to you, and sets it equal to 0. And each time it iterates over itself it adds '1' to the value of the variable 'i'. 'range' specifies for how long it should go here that means while 'i < 5'.\n",
    "\n",
    "The while loops ia bit simple, it simply continues to run while the condition in the parenthese is True. Which means we can potentially create an endless loop by simply doing this:\n",
    "\n",
    "'while(True):'\n",
    "\n",
    "Although this is a good idea if you do not know how long you need your loop to run for, you should have a stoping condition somewhere withing the loop, otherwise your program will be useless and most likely crash after a certain point.\n",
    "\n",
    "Here is an example of using 'break' which simply exits the loop."
   ]
  },
  {
   "cell_type": "code",
   "execution_count": 15,
   "metadata": {},
   "outputs": [
    {
     "name": "stdout",
     "output_type": "stream",
     "text": [
      "2\n",
      "4\n",
      "6\n",
      "8\n",
      "10\n"
     ]
    }
   ],
   "source": [
    "cumulativeSum = 0\n",
    "x = 2\n",
    "while(True):\n",
    "    cumulativeSum += x\n",
    "    print(cumulativeSum)\n",
    "    if(cumulativeSum >= 10):\n",
    "        break"
   ]
  },
  {
   "cell_type": "markdown",
   "metadata": {},
   "source": [
    "# Functions"
   ]
  },
  {
   "cell_type": "markdown",
   "metadata": {},
   "source": [
    "Functions are a powerful and very useful tool in programming. They allow you to write code once and then use it throughout the rest of your code.\n",
    "\n",
    "Functions have a name, inputs and outputs.\n",
    "\n",
    "Name - this is what you use to call (use) the function, be descriptive and clear when naming functions.\n",
    "\n",
    "Input - values which you can pass into the function to use within it.\n",
    "\n",
    "Output - values that your function will output.\n",
    "\n",
    "Here is how you define a function that adds two numbers together:"
   ]
  },
  {
   "cell_type": "code",
   "execution_count": 17,
   "metadata": {},
   "outputs": [],
   "source": [
    "def add(first, second):\n",
    "    theSum = first + second\n",
    "    return theSum"
   ]
  },
  {
   "cell_type": "markdown",
   "metadata": {},
   "source": [
    "'def'  -  this says that you are defining a function\n",
    "\n",
    "'add'  -  this is the function name\n",
    "\n",
    "'(first, second)'  -  these are the values you are passing in\n",
    "\n",
    "'theSum = first + second'  -  the action performed by the function\n",
    "\n",
    "'return theSum'  -  this says what the function is supposed to pass back to the code that called it\n",
    "\n",
    "Now let's see how to use a function:"
   ]
  },
  {
   "cell_type": "code",
   "execution_count": 21,
   "metadata": {},
   "outputs": [
    {
     "name": "stdout",
     "output_type": "stream",
     "text": [
      "7\n",
      "3\n",
      "5\n"
     ]
    }
   ],
   "source": [
    "first = 3\n",
    "second = 4\n",
    "retVal = add(first, second)\n",
    "print(retVal)\n",
    "\n",
    "a = 1\n",
    "b = 2\n",
    "retVal = add(a, b)\n",
    "print(retVal)\n",
    "\n",
    "print(add(2,3))"
   ]
  },
  {
   "cell_type": "markdown",
   "metadata": {},
   "source": [
    "As you can see there are many way to call a function. Functions in Python also allow for multiple returns, here is an example of a function that does, division, multiplication, addition and subtraction.\n",
    "\n",
    "To seperate the values that we want to return we simply use commas."
   ]
  },
  {
   "cell_type": "code",
   "execution_count": 22,
   "metadata": {},
   "outputs": [],
   "source": [
    "def foo(first, second):\n",
    "    theSum = first + second\n",
    "    theDiff = first - second\n",
    "    theProd = first * second \n",
    "    theDiv = first / second\n",
    "    return theSum, theDiff, theProd, theDiv"
   ]
  },
  {
   "cell_type": "code",
   "execution_count": 26,
   "metadata": {},
   "outputs": [
    {
     "name": "stdout",
     "output_type": "stream",
     "text": [
      "6 2 8 2.0\n"
     ]
    }
   ],
   "source": [
    "first = 4\n",
    "second = 2\n",
    "\n",
    "retSum, retDiff, retProd, retDiv = foo(first, second)\n",
    "\n",
    "print(retSum, retDiff, retProd, retDiv)"
   ]
  },
  {
   "cell_type": "markdown",
   "metadata": {},
   "source": [
    "As you can see doing this is very simple and straight forward, but you need to keep track which value is returned first, second and so on.\n",
    "\n",
    "Also, if you only want one value from a function that returns multiple values, doing what I did above will cause an error. To fix this you will need to do something called indexing.\n",
    "\n",
    "Here I will show you how to do it easily and in the next section I will explain to you why we start at index 0."
   ]
  },
  {
   "cell_type": "code",
   "execution_count": 28,
   "metadata": {},
   "outputs": [
    {
     "name": "stdout",
     "output_type": "stream",
     "text": [
      "6\n",
      "8\n"
     ]
    }
   ],
   "source": [
    "retSum = foo(first, second)[0]\n",
    "print(retSum)\n",
    "\n",
    "retProd = foo(first, second)[2]\n",
    "print(retProd)"
   ]
  },
  {
   "cell_type": "markdown",
   "metadata": {},
   "source": [
    "# Data Structures"
   ]
  },
  {
   "cell_type": "markdown",
   "metadata": {},
   "source": [
    "In programming we use data structures, these are variables that have a certain structure for holding data. For example we have lists where we can store values. Data structures are very powerful and important. They allow you to organize your data easily and give you fast access to them. \n",
    "\n",
    "One thing you need to get used to is that in computer science we start indexes at 0. This can be confusing in the beginning but that's just how it is."
   ]
  },
  {
   "cell_type": "markdown",
   "metadata": {},
   "source": [
    "### Lists"
   ]
  },
  {
   "cell_type": "code",
   "execution_count": 30,
   "metadata": {},
   "outputs": [
    {
     "name": "stdout",
     "output_type": "stream",
     "text": [
      "[1, 2, 3, 4, 5]\n"
     ]
    }
   ],
   "source": [
    "myList = [1, 2, 3, 4, 5]\n",
    "print(myList)"
   ]
  },
  {
   "cell_type": "code",
   "execution_count": 34,
   "metadata": {},
   "outputs": [
    {
     "name": "stdout",
     "output_type": "stream",
     "text": [
      "1 3 5\n"
     ]
    }
   ],
   "source": [
    "print(myList[0], myList[2], myList[4])"
   ]
  },
  {
   "cell_type": "markdown",
   "metadata": {},
   "source": [
    "You can also change what a certain index of the list hold:"
   ]
  },
  {
   "cell_type": "code",
   "execution_count": 38,
   "metadata": {},
   "outputs": [
    {
     "name": "stdout",
     "output_type": "stream",
     "text": [
      "['New Value', 2, 3, 4, 5]\n"
     ]
    }
   ],
   "source": [
    "myList[0] = \"New Value\"\n",
    "print(myList)"
   ]
  },
  {
   "cell_type": "markdown",
   "metadata": {},
   "source": [
    "You can also print a section of the list by using something called slicing.\n",
    "The syntax works like such:\n",
    "\n",
    "[   first element to include   :   first element to exclude   :   step   ]"
   ]
  },
  {
   "cell_type": "code",
   "execution_count": 61,
   "metadata": {},
   "outputs": [
    {
     "name": "stdout",
     "output_type": "stream",
     "text": [
      "Includes only the elements from index 0 to 2:  ['New Value', 2]\n",
      "Includes only the elements from index 2 to 4:  [3, 4]\n",
      "Includes all the elements, but skips over every other one:  ['New Value', 3, 5]\n",
      "Includes all the elements, but reverses the list (takes backwards steps):  [5, 4, 3, 2, 'New Value']\n"
     ]
    }
   ],
   "source": [
    "print(\"Includes only the elements from index 0 to 2: \", myList[0:2:1])\n",
    "print(\"Includes only the elements from index 2 to 4: \", myList[2:4])\n",
    "print(\"Includes all the elements, but skips over every other one: \", myList[::2])\n",
    "print(\"Includes all the elements, but reverses the list (takes backwards steps): \", myList[::-1])"
   ]
  },
  {
   "cell_type": "markdown",
   "metadata": {},
   "source": [
    "Data structures also have awesome built in functions that allow you access to a suite of cool tools.\n",
    "\n",
    "Here are a few examples: \n",
    "\n",
    "Also, programming languages allow you to add comments, Python denotes them using '#'.\n",
    "\n",
    "Comments allow programmers to add comments in their code to help themselves and other developers understand it.\n",
    "Comments do not have any effect on the code when it compiles.\n",
    "\n",
    "I will begin using comments to describe simple concepts."
   ]
  },
  {
   "cell_type": "code",
   "execution_count": 88,
   "metadata": {},
   "outputs": [
    {
     "name": "stdout",
     "output_type": "stream",
     "text": [
      "[5]\n",
      "1\n"
     ]
    }
   ],
   "source": [
    "newList = [] #this creates a new empty list\n",
    "\n",
    "newList.append(5) #this appends '5' to the end of the list\n",
    "\n",
    "print(newList)\n",
    "\n",
    "length = len(newList) #this returns the length of the list\n",
    "\n",
    "print(length)"
   ]
  },
  {
   "cell_type": "code",
   "execution_count": 89,
   "metadata": {},
   "outputs": [
    {
     "name": "stdout",
     "output_type": "stream",
     "text": [
      "[5, 0, 1, 2, 3, 4, 5, 6, 7, 8, 9]\n",
      "4\n"
     ]
    }
   ],
   "source": [
    "#here I will append a lot of values using a loop\n",
    "\n",
    "for i in range(10):\n",
    "    newList.append(i) #appends 0-9 to the end of the list\n",
    "\n",
    "print(newList)\n",
    "\n",
    "index = newList.index(3) #the index(x) function returns the index of the first item in the list whose value is 'x'\n",
    "\n",
    "print(index)"
   ]
  },
  {
   "cell_type": "code",
   "execution_count": 90,
   "metadata": {},
   "outputs": [
    {
     "name": "stdout",
     "output_type": "stream",
     "text": [
      "2\n"
     ]
    }
   ],
   "source": [
    "count = newList.count(5) #the count(x) function returns the amount of times 'x' appears in the list\n",
    "\n",
    "print(count)"
   ]
  },
  {
   "cell_type": "code",
   "execution_count": 91,
   "metadata": {},
   "outputs": [
    {
     "name": "stdout",
     "output_type": "stream",
     "text": [
      "[0, 1, 2, 3, 4, 5, 6, 7, 8, 9]\n",
      "[0, 1, 2, 3, 4, 6, 7, 8, 9]\n"
     ]
    }
   ],
   "source": [
    "newList.remove(5) #the remove(x) function returns the first value 'x' that appears in the list\n",
    "\n",
    "print(newList)\n",
    "\n",
    "newList.remove(5) #this call removes the other '5' that we added with the loop\n",
    "\n",
    "print(newList)"
   ]
  },
  {
   "cell_type": "markdown",
   "metadata": {},
   "source": [
    "If you want to learn more awesome things about how you can utilize lists, check out Python's original documentation, the Python team does a great job with their docs.\n",
    "\n",
    "Here's a link: https://docs.python.org/3.6/tutorial/datastructures.html"
   ]
  },
  {
   "cell_type": "markdown",
   "metadata": {},
   "source": [
    "### Dictionaries "
   ]
  },
  {
   "cell_type": "markdown",
   "metadata": {},
   "source": [
    "One of my favorite data structures in Python is the dictionary. They are very similar to Maps in other languages. They allow to store data using 'keys' & 'values'. They are great if you have to values that need to be tied to eachother where at least one of them can't be stored in a linear way. \n",
    "\n",
    "For example: username & userID, home address & family name, car color & car model.\n",
    "\n",
    "Also keys in a dictionary have to be unique, I will use the car color & car model example to show you why that is.\n",
    "\n",
    "Let's see what we can do with dictionaries."
   ]
  },
  {
   "cell_type": "code",
   "execution_count": 107,
   "metadata": {},
   "outputs": [
    {
     "name": "stdout",
     "output_type": "stream",
     "text": [
      "{'red': 'ford focus', 'blue': 'toyota camry', 'white': 'jeep wrangler'}\n"
     ]
    }
   ],
   "source": [
    "cars = {'red':'ford focus', 'blue':'toyota camry', 'white':'jeep wrangler'}\n",
    "#here the keys are the colors while the values are the car models\n",
    "print(cars)"
   ]
  },
  {
   "cell_type": "code",
   "execution_count": 108,
   "metadata": {},
   "outputs": [
    {
     "name": "stdout",
     "output_type": "stream",
     "text": [
      "ford focus\n"
     ]
    }
   ],
   "source": [
    "print(cars['red']) #we can also grab the value at a key by indexing "
   ]
  },
  {
   "cell_type": "code",
   "execution_count": 109,
   "metadata": {},
   "outputs": [
    {
     "name": "stdout",
     "output_type": "stream",
     "text": [
      "{'red': 'mazda rx7', 'blue': 'toyota camry', 'white': 'jeep wrangler'}\n"
     ]
    }
   ],
   "source": [
    "cars['red'] = 'mazda rx7' #here we want to add a new car with the color 'red' and value 'mazda rx7'\n",
    "print(cars)               #but what happens instead is that we change the value at key 'red'"
   ]
  },
  {
   "cell_type": "code",
   "execution_count": 110,
   "metadata": {},
   "outputs": [
    {
     "name": "stdout",
     "output_type": "stream",
     "text": [
      "{'red': 'mazda rx7', 'blue': 'toyota camry', 'white': 'jeep wrangler', 'green': 'ford explorer'}\n"
     ]
    }
   ],
   "source": [
    "cars['green'] = 'ford explorer' #here we are adding a new key, with a new value to the end of the dictionary\n",
    "print(cars)"
   ]
  },
  {
   "cell_type": "code",
   "execution_count": 113,
   "metadata": {},
   "outputs": [
    {
     "name": "stdout",
     "output_type": "stream",
     "text": [
      "['red', 'blue', 'white', 'green']\n"
     ]
    }
   ],
   "source": [
    "keys = list(cars.keys()) #this returns a list of all the keys in a dictionary, lets utilize this!\n",
    "print(keys)"
   ]
  },
  {
   "cell_type": "markdown",
   "metadata": {},
   "source": [
    "In Python you can iterate through items in a list using a loop, check this out!"
   ]
  },
  {
   "cell_type": "code",
   "execution_count": 117,
   "metadata": {},
   "outputs": [
    {
     "name": "stdout",
     "output_type": "stream",
     "text": [
      "mazda rx7\n",
      "toyota camry\n",
      "jeep wrangler\n",
      "ford explorer\n"
     ]
    }
   ],
   "source": [
    "for i in range(len(keys)): #this through all of the elements of the list (0, 1, 2, 3)\n",
    "    key = keys[i]          #here I get each key in the list of keys\n",
    "    print(cars[key])       #here I print out the value in the dictionary at each key"
   ]
  },
  {
   "cell_type": "markdown",
   "metadata": {},
   "source": [
    "Some other awesome ways to loop through a dictionary:"
   ]
  },
  {
   "cell_type": "code",
   "execution_count": 124,
   "metadata": {},
   "outputs": [
    {
     "name": "stdout",
     "output_type": "stream",
     "text": [
      "red  -  mazda rx7\n",
      "blue  -  toyota camry\n",
      "white  -  jeep wrangler\n",
      "green  -  ford explorer\n"
     ]
    }
   ],
   "source": [
    "for key, value in cars.items():\n",
    "    print(key, \" - \",  value)"
   ]
  },
  {
   "cell_type": "code",
   "execution_count": 123,
   "metadata": {},
   "outputs": [
    {
     "name": "stdout",
     "output_type": "stream",
     "text": [
      "red  -  mazda rx7\n",
      "blue  -  toyota camry\n",
      "white  -  jeep wrangler\n",
      "green  -  ford explorer\n"
     ]
    }
   ],
   "source": [
    "for key in cars.keys():\n",
    "    print(key, \" - \", cars[key])"
   ]
  },
  {
   "cell_type": "markdown",
   "metadata": {},
   "source": [
    "# That's it! You made it! 🎉"
   ]
  },
  {
   "cell_type": "markdown",
   "metadata": {},
   "source": [
    "##### If you made it this far congratulations! The things you learned will allow you to build some basic Python programs.\n",
    "\n",
    "##### I encourage you to check out this part of the Python documentation which have a lot of awesome tips on how to use loops efficiently: https://docs.python.org/3.6/tutorial/datastructures.html \n",
    "\n",
    "##### Also check out Project Euler to practice your algorithms and data structures knowledge: https://projecteuler.net/about"
   ]
  }
 ],
 "metadata": {
  "kernelspec": {
   "display_name": "Python 3",
   "language": "python",
   "name": "python3"
  },
  "language_info": {
   "codemirror_mode": {
    "name": "ipython",
    "version": 3
   },
   "file_extension": ".py",
   "mimetype": "text/x-python",
   "name": "python",
   "nbconvert_exporter": "python",
   "pygments_lexer": "ipython3",
   "version": "3.7.0"
  }
 },
 "nbformat": 4,
 "nbformat_minor": 2
}
